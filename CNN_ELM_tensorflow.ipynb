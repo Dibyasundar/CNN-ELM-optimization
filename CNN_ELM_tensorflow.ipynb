{
 "cells": [
  {
   "cell_type": "code",
   "execution_count": 1,
   "metadata": {},
   "outputs": [
    {
     "name": "stderr",
     "output_type": "stream",
     "text": [
      "Using TensorFlow backend.\n"
     ]
    }
   ],
   "source": [
    "import scipy.io\n",
    "import numpy as np\n",
    "import tensorflow as tf\n",
    "from keras.models import Sequential\n",
    "from keras.layers import Dense\n",
    "from keras.layers import Conv2D, MaxPool2D, Flatten\n",
    "from keras import optimizers\n",
    "import keras.utils as np_utils\n",
    "from keras import backend as K\n",
    "import matplotlib.pyplot as plt\n",
    "import sys\n",
    "import urllib\n",
    "import os\n",
    "import tensorflow_probability as tfp"
   ]
  },
  {
   "cell_type": "code",
   "execution_count": 2,
   "metadata": {},
   "outputs": [],
   "source": [
    "####### download mnist file from website \n",
    "if not os.path.isfile(\"train-images-idx3-ubyte.gz\"):\n",
    "    urllib.request.urlretrieve(\"http://yann.lecun.com/exdb/mnist/train-images-idx3-ubyte.gz\",\"train-images-idx3-ubyte.gz\")\n",
    "if not os.path.isfile(\"train-labels-idx1-ubyte.gz\"):\n",
    "    urllib.request.urlretrieve(\"http://yann.lecun.com/exdb/mnist/train-labels-idx1-ubyte.gz\",\"train-labels-idx1-ubyte.gz\")\n",
    "\n",
    "######## reading from the .gz files\n",
    "import gzip\n",
    "f=gzip.open(\"train-images-idx3-ubyte.gz\",'rb')\n",
    "buf=f.read(4)\n",
    "magic_num=np.frombuffer(buf,dtype=np.dtype(np.int32).newbyteorder('>'))\n",
    "if magic_num != 2051:\n",
    "    print(\"invalid file ... exiting...\")\n",
    "    exit()\n",
    "buf=f.read(4)\n",
    "N=np.frombuffer(buf,dtype=np.dtype(np.int32).newbyteorder('>'))[0]\n",
    "buf=f.read(4)\n",
    "H=np.frombuffer(buf,dtype=np.dtype(np.int32).newbyteorder('>'))[0]\n",
    "buf=f.read(4)\n",
    "W=np.frombuffer(buf,dtype=np.dtype(np.int32).newbyteorder('>'))[0]\n",
    "train_img=np.frombuffer(f.read(H*W*N),dtype=np.uint8)\n",
    "train_img=train_img.reshape(N,H,W,1)\n",
    "f.close()\n",
    "\n",
    "f=gzip.open(\"train-labels-idx1-ubyte.gz\",'rb')\n",
    "buf=f.read(4)\n",
    "magic_num=np.frombuffer(buf,dtype=np.dtype(np.int32).newbyteorder('>'))\n",
    "if magic_num != 2049:\n",
    "    print(\"invalid file ... exiting...\")\n",
    "    exit()\n",
    "buf=f.read(4)\n",
    "N=np.frombuffer(buf,dtype=np.dtype(np.int32).newbyteorder('>'))[0]\n",
    "train_label=np.frombuffer(f.read(N),dtype=np.uint8)\n",
    "train_label=train_label.reshape(N,1)\n",
    "f.close()\n",
    "train_label=np_utils.to_categorical(train_label);"
   ]
  },
  {
   "cell_type": "code",
   "execution_count": 3,
   "metadata": {},
   "outputs": [
    {
     "name": "stdout",
     "output_type": "stream",
     "text": [
      "(60000, 28, 28, 1)\n"
     ]
    }
   ],
   "source": [
    "if K.image_data_format() == 'channels_last':\n",
    "    train_img = train_img.reshape(train_img.shape[0],train_img.shape[1], train_img.shape[2], train_img.shape[3])\n",
    "else:\n",
    "    train_img = train_img.reshape(train_img.shape[0], 1, train_img.shape[1], train_img.shape[2])\n",
    "print(train_img.shape)"
   ]
  },
  {
   "cell_type": "code",
   "execution_count": 29,
   "metadata": {},
   "outputs": [],
   "source": [
    "def new_model(m,n,o,b):\n",
    "    model=Sequential()\n",
    "    model.add(Conv2D(filters=5,kernel_size=(5,5),padding='Valid',activation='relu',input_shape=(28,28,1)));\n",
    "    model.add(MaxPool2D(pool_size=(2,2)))\n",
    "    model.add(Conv2D(filters=5,kernel_size=(5,5),padding='Valid',activation='relu'));\n",
    "    model.add(MaxPool2D(pool_size=(2,2)))\n",
    "    model.add(Flatten())\n",
    "    if b==1:\n",
    "        model.add(Dense(n,activation='sigmoid',use_bias=True))\n",
    "    else:\n",
    "        model.add(Dense(n,activation='sigmoid',use_bias=False))\n",
    "    model.add(Dense(o[1],activation='softmax',use_bias=False))\n",
    "    return model\n",
    "def get_input(model,train_img,n):\n",
    "    get_layer=K.function([model.layers[0].input],[model.layers[n].output])\n",
    "    t_img=get_layer([train_img])[0]\n",
    "    return t_img\n",
    "def random_weight(a):\n",
    "    c=a.copy\n",
    "    c=-1+np.random.random(a.shape)*2\n",
    "    return c\n"
   ]
  },
  {
   "cell_type": "code",
   "execution_count": 37,
   "metadata": {},
   "outputs": [
    {
     "name": "stdout",
     "output_type": "stream",
     "text": [
      "_________________________________________________________________\n",
      "Layer (type)                 Output Shape              Param #   \n",
      "=================================================================\n",
      "conv2d_23 (Conv2D)           (None, 24, 24, 5)         130       \n",
      "_________________________________________________________________\n",
      "max_pooling2d_23 (MaxPooling (None, 12, 12, 5)         0         \n",
      "_________________________________________________________________\n",
      "conv2d_24 (Conv2D)           (None, 8, 8, 5)           630       \n",
      "_________________________________________________________________\n",
      "max_pooling2d_24 (MaxPooling (None, 4, 4, 5)           0         \n",
      "_________________________________________________________________\n",
      "flatten_12 (Flatten)         (None, 80)                0         \n",
      "_________________________________________________________________\n",
      "dense_23 (Dense)             (None, 300)               24300     \n",
      "_________________________________________________________________\n",
      "dense_24 (Dense)             (None, 10)                3000      \n",
      "=================================================================\n",
      "Total params: 28,060\n",
      "Trainable params: 28,060\n",
      "Non-trainable params: 0\n",
      "_________________________________________________________________\n",
      "60000/60000 [==============================] - 5s 83us/step\n"
     ]
    },
    {
     "data": {
      "text/plain": [
       "[2.0729782861709594, 0.5602166666666667]"
      ]
     },
     "execution_count": 37,
     "metadata": {},
     "output_type": "execute_result"
    }
   ],
   "source": [
    "use_bias=1\n",
    "\n",
    "model=new_model(train_img.shape,300,train_label.shape,use_bias)\n",
    "model.compile(optimizer='sgd',loss='categorical_crossentropy',metrics=['accuracy'])\n",
    "model.fit(train_img,train_label,epochs=0,batch_size=100)\n",
    "model.summary()\n",
    "l=model.get_weights()\n",
    "\n",
    "\n",
    "for i in range(len(l)):\n",
    "    l[i]=random_weight(l[i])\n",
    "    \n",
    "model.set_weights(l)\n",
    "t_img=get_input(model,train_img,len(model.layers)-2)\n",
    "t_img=tf.Session().run(tf.matmul(tfp.math.pinv(t_img),train_label))\n",
    "l[len(l)-1]=t_img\n",
    "model.set_weights(l)\n",
    "model.evaluate(train_img,train_label)"
   ]
  },
  {
   "cell_type": "code",
   "execution_count": null,
   "metadata": {},
   "outputs": [],
   "source": []
  }
 ],
 "metadata": {
  "kernelspec": {
   "display_name": "Python 3",
   "language": "python",
   "name": "python3"
  },
  "language_info": {
   "codemirror_mode": {
    "name": "ipython",
    "version": 3
   },
   "file_extension": ".py",
   "mimetype": "text/x-python",
   "name": "python",
   "nbconvert_exporter": "python",
   "pygments_lexer": "ipython3",
   "version": "3.6.8"
  }
 },
 "nbformat": 4,
 "nbformat_minor": 2
}
