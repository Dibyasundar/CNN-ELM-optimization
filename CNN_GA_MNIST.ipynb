{
 "cells": [
  {
   "cell_type": "code",
   "execution_count": 1,
   "metadata": {},
   "outputs": [
    {
     "name": "stderr",
     "output_type": "stream",
     "text": [
      "Using TensorFlow backend.\n"
     ]
    }
   ],
   "source": [
    "import scipy.io\n",
    "import numpy as np\n",
    "import tensorflow as tf\n",
    "from keras.models import Sequential\n",
    "from keras.layers import Dense\n",
    "from keras.layers import Conv2D, MaxPool2D, Flatten\n",
    "from keras import optimizers\n",
    "import keras.utils as np_utils\n",
    "from keras import backend as K\n",
    "import matplotlib.pyplot as plt\n",
    "import sys\n",
    "import urllib\n",
    "import os"
   ]
  },
  {
   "cell_type": "code",
   "execution_count": 2,
   "metadata": {},
   "outputs": [],
   "source": [
    "####### download mnist file from website \n",
    "if not os.path.isfile(\"train-images-idx3-ubyte.gz\"):\n",
    "    urllib.request.urlretrieve(\"http://yann.lecun.com/exdb/mnist/train-images-idx3-ubyte.gz\",\"train-images-idx3-ubyte.gz\")\n",
    "if not os.path.isfile(\"train-labels-idx1-ubyte.gz\"):\n",
    "    urllib.request.urlretrieve(\"http://yann.lecun.com/exdb/mnist/train-labels-idx1-ubyte.gz\",\"train-labels-idx1-ubyte.gz\")\n",
    "\n",
    "######## reading from the .gz files\n",
    "import gzip\n",
    "f=gzip.open(\"train-images-idx3-ubyte.gz\",'rb')\n",
    "buf=f.read(4)\n",
    "magic_num=np.frombuffer(buf,dtype=np.dtype(np.int32).newbyteorder('>'))\n",
    "if magic_num != 2051:\n",
    "    print(\"invalid file ... exiting...\")\n",
    "    exit()\n",
    "buf=f.read(4)\n",
    "N=np.frombuffer(buf,dtype=np.dtype(np.int32).newbyteorder('>'))[0]\n",
    "buf=f.read(4)\n",
    "H=np.frombuffer(buf,dtype=np.dtype(np.int32).newbyteorder('>'))[0]\n",
    "buf=f.read(4)\n",
    "W=np.frombuffer(buf,dtype=np.dtype(np.int32).newbyteorder('>'))[0]\n",
    "train_img=np.frombuffer(f.read(H*W*N),dtype=np.uint8)\n",
    "train_img=train_img.reshape(N,H,W,1)\n",
    "f.close()\n",
    "\n",
    "f=gzip.open(\"train-labels-idx1-ubyte.gz\",'rb')\n",
    "buf=f.read(4)\n",
    "magic_num=np.frombuffer(buf,dtype=np.dtype(np.int32).newbyteorder('>'))\n",
    "if magic_num != 2049:\n",
    "    print(\"invalid file ... exiting...\")\n",
    "    exit()\n",
    "buf=f.read(4)\n",
    "N=np.frombuffer(buf,dtype=np.dtype(np.int32).newbyteorder('>'))[0]\n",
    "train_label=np.frombuffer(f.read(N),dtype=np.uint8)\n",
    "train_label=train_label.reshape(N,1)\n",
    "f.close()\n",
    "train_label=np_utils.to_categorical(train_label);"
   ]
  },
  {
   "cell_type": "code",
   "execution_count": 3,
   "metadata": {},
   "outputs": [
    {
     "name": "stdout",
     "output_type": "stream",
     "text": [
      "(60000, 28, 28, 1)\n"
     ]
    }
   ],
   "source": [
    "if K.image_data_format() == 'channels_last':\n",
    "    train_img = train_img.reshape(train_img.shape[0],train_img.shape[1], train_img.shape[2], train_img.shape[3])\n",
    "else:\n",
    "    train_img = train_img.reshape(train_img.shape[0], 1, train_img.shape[1], train_img.shape[2])\n",
    "print(train_img.shape)"
   ]
  },
  {
   "cell_type": "code",
   "execution_count": 4,
   "metadata": {},
   "outputs": [],
   "source": [
    "def new_model():\n",
    "    model=Sequential()\n",
    "    model.add(Conv2D(filters=32,kernel_size=(5,5),padding='Valid',activation='relu',input_shape=(28,28,1)));\n",
    "    model.add(MaxPool2D(pool_size=(2,2)))\n",
    "    model.add(Conv2D(filters=12,kernel_size=(5,5),padding='Valid',activation='relu'));\n",
    "    model.add(MaxPool2D(pool_size=(2,2)))\n",
    "    model.add(Flatten())\n",
    "    model.add(Dense(10,activation='softmax'))\n",
    "    return model\n",
    "\n",
    "def list_sum_vec(a,b):\n",
    "    for i in range(len(a)):\n",
    "        a[i]=a[i]+b\n",
    "    return a\n",
    "def list_mul_vec(a,b):\n",
    "    for i in range(len(a)):\n",
    "        a[i]=a[i]*b\n",
    "    return a\n",
    "def list_sub_vec(a,b):\n",
    "    for i in range(len(a)):\n",
    "        a[i]=a[i]-b\n",
    "    return a\n",
    "def list_div_vec(a,b):\n",
    "    for i in range(len(a)):\n",
    "        a[i]=a[i]/b\n",
    "    return a\n",
    "def list_sum_list(a,b):\n",
    "    for i in range(len(a)):\n",
    "        a[i]=a[i]+b[i]\n",
    "    return a\n",
    "def list_mul_list(a,b):\n",
    "    for i in range(len(a)):\n",
    "        a[i]=np.multiply(a[i],b[i])\n",
    "    return a\n",
    "def list_sub_list(a,b):\n",
    "    for i in range(len(a)):\n",
    "        a[i]=a[i]-b[i]\n",
    "    return a\n",
    "def list_div_list(a,b):\n",
    "    for i in range(len(a)):\n",
    "        a[i]=np.divide(a[i],b[i])\n",
    "    return a\n",
    "def list_rand(a):\n",
    "    for i in range(len(a)):\n",
    "        a[i]=-1+np.random.random(a[i].shape)*2\n",
    "    return a\n",
    "def cross_list(a,b,p):\n",
    "    c1=a.copy()\n",
    "    c2=a.copy()\n",
    "    for i in range(len(a)):\n",
    "        c1[i]=(a[i]*p)+(b[i]*(1-p))\n",
    "        c2[i]=(a[i]*(1-p))+(b[i]*p)\n",
    "    return c1,c2\n",
    "def list_mutation(a,b):\n",
    "    for i in range(len(a)):\n",
    "        a[i]=a[i]+(-1+np.random.random(a[i].shape)*2)*b\n",
    "    return a"
   ]
  },
  {
   "cell_type": "code",
   "execution_count": 5,
   "metadata": {},
   "outputs": [
    {
     "name": "stdout",
     "output_type": "stream",
     "text": [
      "Epoch 1/1\n",
      "60000/60000 [==============================] - 7s 116us/step - loss: 0.1538 - acc: 0.2191\n"
     ]
    },
    {
     "data": {
      "text/plain": [
       "<keras.callbacks.History at 0x7f67d7d9f860>"
      ]
     },
     "execution_count": 5,
     "metadata": {},
     "output_type": "execute_result"
    }
   ],
   "source": [
    "model=new_model();\n",
    "sgd=optimizers.SGD(lr=0.01,decay=0.0001,momentum=0.9)\n",
    "model.compile(optimizer=sgd,loss='mean_squared_error',metrics=['accuracy'])\n",
    "model.fit(train_img,train_label,batch_size=1000,epochs=1,verbose=1)"
   ]
  },
  {
   "cell_type": "code",
   "execution_count": 6,
   "metadata": {},
   "outputs": [
    {
     "name": "stdout",
     "output_type": "stream",
     "text": [
      "60000/60000 [==============================] - 3s 56us/step\n",
      "60000/60000 [==============================] - 3s 55us/step\n",
      "60000/60000 [==============================] - 3s 56us/step\n",
      "60000/60000 [==============================] - 3s 54us/step\n"
     ]
    }
   ],
   "source": [
    "pop=[];vel=[];\n",
    "iter_c=1\n",
    "pop_sz=4\n",
    "for i in range(pop_sz):\n",
    "    m=new_model()\n",
    "    pop.append(list_rand(m.get_weights()));\n",
    "\n",
    "obj=[];\n",
    "for i in range(pop_sz):\n",
    "    model.set_weights(pop[i])\n",
    "    v=model.evaluate(train_img,train_label);\n",
    "    obj.append(v[1])"
   ]
  },
  {
   "cell_type": "code",
   "execution_count": null,
   "metadata": {},
   "outputs": [
    {
     "name": "stdout",
     "output_type": "stream",
     "text": [
      "1 : 0.2266375\n",
      "2 : 0.2277583333333333\n",
      "3 : 0.22914166666666666\n",
      "4 : 0.23034583333333333\n",
      "5 : 0.2318291666666667\n",
      "6 : 0.23229583333333334\n",
      "7 : 0.23294583333333335\n",
      "8 : 0.233375\n",
      "9 : 0.233875\n",
      "10 : 0.23511666666666667\n",
      "11 : 0.2362\n",
      "12 : 0.23667499999999997\n",
      "13 : 0.23732083333333331\n",
      "14 : 0.23840833333333333\n",
      "15 : 0.238875\n",
      "16 : 0.23917083333333333\n",
      "17 : 0.24054166666666668\n",
      "18 : 0.24062499999999998\n",
      "19 : 0.24107083333333335\n",
      "20 : 0.24139166666666664\n",
      "21 : 0.24148333333333333\n",
      "22 : 0.24224583333333335\n",
      "23 : 0.24299166666666666\n",
      "24 : 0.24362083333333334\n",
      "25 : 0.24382916666666668\n",
      "26 : 0.24466249999999998\n",
      "27 : 0.24562499999999998\n",
      "28 : 0.24639583333333331\n",
      "29 : 0.24718333333333334\n",
      "30 : 0.24827916666666666\n",
      "31 : 0.24899583333333336\n",
      "32 : 0.24964583333333332\n",
      "33 : 0.2504791666666667\n",
      "34 : 0.2506625\n",
      "35 : 0.25105833333333333\n"
     ]
    }
   ],
   "source": [
    "iter_c=1\n",
    "iter_max=50\n",
    "while iter_c<iter_max:\n",
    "    prob=np.divide(obj,np.sum(obj))\n",
    "    pos=np.argsort(np.multiply(obj,-1))\n",
    "    parent1=pop[pos[1]].copy()\n",
    "    p1=prob[pos[1]].copy()\n",
    "    parent2=pop[pos[2]].copy()\n",
    "    p2=prob[pos[2]].copy()\n",
    "    temp_pop=pop.copy()\n",
    "    temp_obj=obj.copy()\n",
    "    for i in range(0,pop_sz,1):\n",
    "        if np.random.rand(1)>0.5:\n",
    "            c1,c2=cross_list(parent1,pop[i],p1)\n",
    "        else:\n",
    "            c1,c2=cross_list(parent2,pop[i],p2)\n",
    "        c1=list_mutation(c1,0.01)\n",
    "        c2=list_mutation(c2,0.01)\n",
    "        temp_pop.append(c1)\n",
    "        model.set_weights(c1)\n",
    "        v=model.evaluate(train_img,train_label,verbose=0);\n",
    "        temp_obj.append(v[1])\n",
    "        temp_pop.append(c2)\n",
    "        model.set_weights(c2)\n",
    "        v=model.evaluate(train_img,train_label,verbose=0);\n",
    "        temp_obj.append(v[1])\n",
    "    pos=np.argsort(np.multiply(temp_obj,-1))\n",
    "    for i in range(pop_sz):\n",
    "        pop[i]=temp_pop[pos[i]].copy()\n",
    "        obj[i]=temp_obj[pos[i]].copy()\n",
    "    del temp_pop\n",
    "    del temp_obj\n",
    "    print(iter_c,\":\",np.mean(obj))\n",
    "    iter_c=iter_c+1"
   ]
  },
  {
   "cell_type": "code",
   "execution_count": 54,
   "metadata": {},
   "outputs": [
    {
     "name": "stdout",
     "output_type": "stream",
     "text": [
      "[12 15 23 20  5  1 11 17 25 27 21  4 18 19 13 26 14 29 28 10  2  9  8  0\n",
      " 16 24  3  7  6 22]\n"
     ]
    }
   ],
   "source": [
    "print()"
   ]
  },
  {
   "cell_type": "code",
   "execution_count": null,
   "metadata": {},
   "outputs": [],
   "source": [
    "agr(max)"
   ]
  }
 ],
 "metadata": {
  "kernelspec": {
   "display_name": "Python 3",
   "language": "python",
   "name": "python3"
  },
  "language_info": {
   "codemirror_mode": {
    "name": "ipython",
    "version": 3
   },
   "file_extension": ".py",
   "mimetype": "text/x-python",
   "name": "python",
   "nbconvert_exporter": "python",
   "pygments_lexer": "ipython3",
   "version": "3.6.8"
  }
 },
 "nbformat": 4,
 "nbformat_minor": 2
}
