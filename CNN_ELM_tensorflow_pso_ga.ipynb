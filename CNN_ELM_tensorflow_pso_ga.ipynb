{
  "nbformat": 4,
  "nbformat_minor": 0,
  "metadata": {
    "colab": {
      "name": "CNN_ELM_tensorflow _pso.ipynb",
      "version": "0.3.2",
      "provenance": [],
      "collapsed_sections": []
    },
    "kernelspec": {
      "name": "python3",
      "display_name": "Python 3"
    },
    "accelerator": "GPU"
  },
  "cells": [
    {
      "metadata": {
        "id": "Sldh40qLKcZo",
        "colab_type": "code",
        "outputId": "718b727a-7731-46b0-ba3d-d620b33dc83b",
        "colab": {
          "base_uri": "https://localhost:8080/",
          "height": 35
        }
      },
      "cell_type": "code",
      "source": [
        "import scipy.io\n",
        "import numpy as np\n",
        "import tensorflow as tf\n",
        "from keras.models import Sequential\n",
        "from keras.layers import Dense\n",
        "from keras.layers import Conv2D, MaxPool2D, Flatten\n",
        "from keras import optimizers\n",
        "import keras.utils as np_utils\n",
        "from keras import backend as K\n",
        "import matplotlib.pyplot as plt\n",
        "import sys\n",
        "import urllib\n",
        "import os\n",
        "import tensorflow_probability as tfp"
      ],
      "execution_count": 1,
      "outputs": [
        {
          "output_type": "stream",
          "text": [
            "Using TensorFlow backend.\n"
          ],
          "name": "stderr"
        }
      ]
    },
    {
      "metadata": {
        "id": "nwfDhIOQKcZz",
        "colab_type": "code",
        "colab": {}
      },
      "cell_type": "code",
      "source": [
        "####### download mnist file from website \n",
        "if not os.path.isfile(\"train-images-idx3-ubyte.gz\"):\n",
        "    urllib.request.urlretrieve(\"http://yann.lecun.com/exdb/mnist/train-images-idx3-ubyte.gz\",\"train-images-idx3-ubyte.gz\")\n",
        "if not os.path.isfile(\"train-labels-idx1-ubyte.gz\"):\n",
        "    urllib.request.urlretrieve(\"http://yann.lecun.com/exdb/mnist/train-labels-idx1-ubyte.gz\",\"train-labels-idx1-ubyte.gz\")\n",
        "\n",
        "######## reading from the .gz files\n",
        "import gzip\n",
        "f=gzip.open(\"train-images-idx3-ubyte.gz\",'rb')\n",
        "buf=f.read(4)\n",
        "magic_num=np.frombuffer(buf,dtype=np.dtype(np.int32).newbyteorder('>'))\n",
        "if magic_num != 2051:\n",
        "    print(\"invalid file ... exiting...\")\n",
        "    exit()\n",
        "buf=f.read(4)\n",
        "N=np.frombuffer(buf,dtype=np.dtype(np.int32).newbyteorder('>'))[0]\n",
        "buf=f.read(4)\n",
        "H=np.frombuffer(buf,dtype=np.dtype(np.int32).newbyteorder('>'))[0]\n",
        "buf=f.read(4)\n",
        "W=np.frombuffer(buf,dtype=np.dtype(np.int32).newbyteorder('>'))[0]\n",
        "train_img=np.frombuffer(f.read(H*W*N),dtype=np.uint8)\n",
        "train_img=train_img.reshape(N,H,W,1)\n",
        "f.close()\n",
        "\n",
        "f=gzip.open(\"train-labels-idx1-ubyte.gz\",'rb')\n",
        "buf=f.read(4)\n",
        "magic_num=np.frombuffer(buf,dtype=np.dtype(np.int32).newbyteorder('>'))\n",
        "if magic_num != 2049:\n",
        "    print(\"invalid file ... exiting...\")\n",
        "    exit()\n",
        "buf=f.read(4)\n",
        "N=np.frombuffer(buf,dtype=np.dtype(np.int32).newbyteorder('>'))[0]\n",
        "train_label=np.frombuffer(f.read(N),dtype=np.uint8)\n",
        "train_label=train_label.reshape(N,1)\n",
        "f.close()\n",
        "train_label=np_utils.to_categorical(train_label);"
      ],
      "execution_count": 0,
      "outputs": []
    },
    {
      "metadata": {
        "id": "lJHeui8xKcZ9",
        "colab_type": "code",
        "outputId": "2af90be9-e7bf-4c46-e485-e15c8bb9a11a",
        "colab": {
          "base_uri": "https://localhost:8080/",
          "height": 35
        }
      },
      "cell_type": "code",
      "source": [
        "if K.image_data_format() == 'channels_last':\n",
        "    train_img = train_img.reshape(train_img.shape[0],train_img.shape[1], train_img.shape[2], train_img.shape[3])\n",
        "else:\n",
        "    train_img = train_img.reshape(train_img.shape[0], 1, train_img.shape[1], train_img.shape[2])\n",
        "print(train_img.shape)"
      ],
      "execution_count": 3,
      "outputs": [
        {
          "output_type": "stream",
          "text": [
            "(60000, 28, 28, 1)\n"
          ],
          "name": "stdout"
        }
      ]
    },
    {
      "metadata": {
        "id": "xg15JVSLKcaG",
        "colab_type": "code",
        "colab": {}
      },
      "cell_type": "code",
      "source": [
        "def new_model(m,n,o,b):\n",
        "    model=Sequential()\n",
        "    model.add(Conv2D(filters=5,kernel_size=(5,5),padding='Valid',activation='relu',input_shape=(28,28,1)));\n",
        "    model.add(MaxPool2D(pool_size=(2,2)))\n",
        "    model.add(Conv2D(filters=5,kernel_size=(5,5),padding='Valid',activation='relu'));\n",
        "    model.add(MaxPool2D(pool_size=(2,2)))\n",
        "    model.add(Flatten())\n",
        "    if b==1:\n",
        "        model.add(Dense(n,activation='sigmoid',use_bias=True))\n",
        "    else:\n",
        "        model.add(Dense(n,activation='sigmoid',use_bias=False))\n",
        "    model.add(Dense(o[1],activation='softmax',use_bias=False))\n",
        "    return model\n",
        "\n",
        "def get_input(model,train_img,n):\n",
        "    get_layer=K.function([model.layers[0].input],[model.layers[n].output])\n",
        "    t_img=get_layer([train_img])[0]\n",
        "    return t_img\n",
        "\n",
        "def random_weight(a):\n",
        "    c=a.copy\n",
        "    c=-1+np.random.random(a.shape)*2\n",
        "    return c\n",
        "\n",
        "def list_sum_vec(c,b):\n",
        "    a=c.copy()\n",
        "    for i in range(len(a)):\n",
        "        a[i]=a[i]+b\n",
        "    return a\n",
        "\n",
        "def list_mul_vec(c,b):\n",
        "    a=c.copy()\n",
        "    for i in range(len(a)):\n",
        "        a[i]=a[i]*b\n",
        "    return a\n",
        "\n",
        "def list_sub_vec(c,b):\n",
        "    a=c.copy()\n",
        "    for i in range(len(a)):\n",
        "        a[i]=a[i]-b\n",
        "    return a\n",
        "\n",
        "def list_div_vec(c,b):\n",
        "    a=c.copy()\n",
        "    for i in range(len(a)):\n",
        "        a[i]=a[i]/b\n",
        "    return a\n",
        "\n",
        "def list_sum_list(c,b):\n",
        "    a=c.copy()\n",
        "    for i in range(len(a)):\n",
        "        a[i]=a[i]+b[i]\n",
        "    return a\n",
        "def list_mul_list(c,b):\n",
        "    a=c.copy()\n",
        "    for i in range(len(a)):\n",
        "        a[i]=np.multiply(a[i],b[i])\n",
        "    return a\n",
        "def list_sub_list(c,b):\n",
        "    a=c.copy()\n",
        "    for i in range(len(a)):\n",
        "        a[i]=a[i]-b[i]\n",
        "    return a\n",
        "\n",
        "def list_div_list(c,b):\n",
        "    a=c.copy()\n",
        "    for i in range(len(a)):\n",
        "        a[i]=np.divide(a[i],b[i])\n",
        "    return a\n",
        "\n",
        "def list_rand(c):\n",
        "    a=c.copy()\n",
        "    for i in range(len(a)):\n",
        "        a[i]=0.01*(np.random.random(a[i].shape))\n",
        "    return a\n",
        "\n",
        "def cross_list(a,b,p):\n",
        "    c1=a.copy()\n",
        "    c2=a.copy()\n",
        "    for i in range(len(a)):\n",
        "        c1[i]=(a[i]*p)+(b[i]*(1-p))\n",
        "        c2[i]=(a[i]*(1-p))+(b[i]*p)\n",
        "    return c1,c2\n",
        "\n",
        "def list_mutation(c,b):\n",
        "    a=c.copy()\n",
        "    for i in range(len(a)):\n",
        "        a[i]=a[i]+(-1+np.random.random(a[i].shape)*2)*b\n",
        "    return a"
      ],
      "execution_count": 0,
      "outputs": []
    },
    {
      "metadata": {
        "id": "pRweqh3gKcaI",
        "colab_type": "code",
        "outputId": "0820231a-9efb-4cfa-8800-a551f06c0bf7",
        "colab": {
          "base_uri": "https://localhost:8080/",
          "height": 539
        }
      },
      "cell_type": "code",
      "source": [
        "use_bias=1\n",
        "\n",
        "model=new_model(train_img.shape,300,train_label.shape,use_bias)\n",
        "model.compile(optimizer='sgd',loss='categorical_crossentropy',metrics=['accuracy'])\n",
        "model.fit(train_img,train_label,epochs=0,batch_size=100)\n",
        "model.summary()\n",
        "l=model.get_weights()\n",
        "\n",
        "pop_sz=10\n",
        "pop=[]\n",
        "vel=[]\n",
        "obj=[]\n",
        "for i in range(pop_sz):\n",
        "    for j in range(len(l)):\n",
        "        l[j]=random_weight(l[j])\n",
        "    pop.append(l.copy())\n",
        "    for j in range(len(l)):\n",
        "        l[j]=random_weight(l[j])\n",
        "    vel.append(l.copy())\n",
        "for i in range(pop_sz):\n",
        "    l=pop[i]\n",
        "    model.set_weights(l)\n",
        "    t_img=get_input(model,train_img,len(model.layers)-2)\n",
        "    t_img=tf.Session().run(tf.matmul(tfp.math.pinv(t_img),train_label))\n",
        "    l[len(l)-1]=t_img\n",
        "    model.set_weights(l)\n",
        "    v=model.evaluate(train_img,train_label,batch_size=1000)\n",
        "    pop[i]=l.copy()\n",
        "    obj.append(v[0].copy())\n",
        "# minimizing the loss\n",
        "print(obj)\n",
        "l_pop=pop.copy()\n",
        "l_obj=obj.copy()\n",
        "g_pop=pop[np.argmin(obj)].copy()\n",
        "g_obj=obj[np.argmin(obj)].copy()"
      ],
      "execution_count": 0,
      "outputs": [
        {
          "output_type": "stream",
          "text": [
            "_________________________________________________________________\n",
            "Layer (type)                 Output Shape              Param #   \n",
            "=================================================================\n",
            "conv2d_17 (Conv2D)           (None, 24, 24, 5)         130       \n",
            "_________________________________________________________________\n",
            "max_pooling2d_17 (MaxPooling (None, 12, 12, 5)         0         \n",
            "_________________________________________________________________\n",
            "conv2d_18 (Conv2D)           (None, 8, 8, 5)           630       \n",
            "_________________________________________________________________\n",
            "max_pooling2d_18 (MaxPooling (None, 4, 4, 5)           0         \n",
            "_________________________________________________________________\n",
            "flatten_9 (Flatten)          (None, 80)                0         \n",
            "_________________________________________________________________\n",
            "dense_17 (Dense)             (None, 300)               24300     \n",
            "_________________________________________________________________\n",
            "dense_18 (Dense)             (None, 10)                3000      \n",
            "=================================================================\n",
            "Total params: 28,060\n",
            "Trainable params: 28,060\n",
            "Non-trainable params: 0\n",
            "_________________________________________________________________\n",
            "60000/60000 [==============================] - 1s 12us/step\n",
            "60000/60000 [==============================] - 0s 7us/step\n",
            "60000/60000 [==============================] - 0s 8us/step\n",
            "60000/60000 [==============================] - 0s 7us/step\n",
            "60000/60000 [==============================] - 0s 8us/step\n",
            "60000/60000 [==============================] - 0s 7us/step\n",
            "60000/60000 [==============================] - 0s 8us/step\n",
            "60000/60000 [==============================] - 0s 7us/step\n"
          ],
          "name": "stdout"
        }
      ]
    },
    {
      "metadata": {
        "id": "h4cdy3XfKcaL",
        "colab_type": "code",
        "colab": {
          "base_uri": "https://localhost:8080/",
          "height": 370
        },
        "outputId": "278ffbff-71ef-47e5-b8ac-74e478684897"
      },
      "cell_type": "code",
      "source": [
        "momentum=0.008\n",
        "g_vel=0.2\n",
        "l_vel=0.008\n",
        "iter_c=0\n",
        "max_iter=100\n",
        "plot_local_obj_mean=[]\n",
        "plot_g_obj=[]\n",
        "\n",
        "while iter_c<max_iter:\n",
        "    for i in range(pop_sz):\n",
        "        tp=list_mul_list(list_mul_vec(list_rand(pop[i]),g_vel),list_sub_list(g_pop,pop[i]))\n",
        "        tpp=list_mul_list(list_mul_vec(list_rand(pop[i]),l_vel),list_sub_list(l_pop[i],pop[i]))\n",
        "        vel[i]=list_sum_list(list_mul_vec(vel[i],momentum),list_sum_list(tp,tpp))\n",
        "        npop=list_sum_list(pop[i],vel[i])\n",
        "        c1,c2=cross_list(npop,g_pop,0.2)\n",
        "        model.set_weights(c1)\n",
        "        v1=model.evaluate(train_img,train_label,batch_size=1000,verbose=0)\n",
        "        model.set_weights(c2)\n",
        "        v2=model.evaluate(train_img,train_label,batch_size=1000,verbose=0)\n",
        "        if v1[0]<obj[i]:\n",
        "            pop[i]=c1.copy()\n",
        "            obj[i]=v1[0].copy()\n",
        "        if v2[0]<obj[i]:\n",
        "            pop[i]=c2.copy()\n",
        "            obj[i]=v2[0].copy()\n",
        "        if obj[i]<g_obj:\n",
        "            g_pop=pop[i].copy()\n",
        "            g_obj=obj[i].copy()\n",
        "        if obj[i]<l_obj[i]:\n",
        "            l_pop[i]=pop[i].copy()\n",
        "            l_obj[i]=obj[i].copy()\n",
        "            \n",
        "    plot_local_obj_mean.append(np.mean(l_obj))\n",
        "    plot_g_obj.append(g_obj)\n",
        "    print(iter_c,\" : \",g_obj,\" : \",np.mean(l_obj),\" : \",np.mean(obj))\n",
        "    iter_c=iter_c+1"
      ],
      "execution_count": 33,
      "outputs": [
        {
          "output_type": "stream",
          "text": [
            "0  :  1.9280757129192352  :  1.9335993889967604  :  1.933599389592807\n",
            "1  :  1.9280757129192352  :  1.9291007202863693  :  1.9291007208824158\n",
            "2  :  1.9280757129192352  :  1.9282797396183013  :  1.9282797402143477\n",
            "3  :  1.9280757129192352  :  1.9281142606337867  :  1.9281142612298332\n",
            "4  :  1.9280757129192352  :  1.9280836137135826  :  1.9280836143096287\n",
            "5  :  1.9280757129192352  :  1.9280773735046388  :  1.9280773741006851\n",
            "6  :  1.9280757129192352  :  1.9280760620037714  :  1.9280760625998181\n"
          ],
          "name": "stdout"
        },
        {
          "output_type": "error",
          "ename": "IndexError",
          "evalue": "ignored",
          "traceback": [
            "\u001b[0;31m---------------------------------------------------------------------------\u001b[0m",
            "\u001b[0;31mIndexError\u001b[0m                                Traceback (most recent call last)",
            "\u001b[0;32m<ipython-input-33-27a6aaacfcf1>\u001b[0m in \u001b[0;36m<module>\u001b[0;34m()\u001b[0m\n\u001b[1;32m     24\u001b[0m             \u001b[0mpop\u001b[0m\u001b[0;34m[\u001b[0m\u001b[0mi\u001b[0m\u001b[0;34m]\u001b[0m\u001b[0;34m=\u001b[0m\u001b[0mc2\u001b[0m\u001b[0;34m.\u001b[0m\u001b[0mcopy\u001b[0m\u001b[0;34m(\u001b[0m\u001b[0;34m)\u001b[0m\u001b[0;34m\u001b[0m\u001b[0;34m\u001b[0m\u001b[0m\n\u001b[1;32m     25\u001b[0m             \u001b[0mobj\u001b[0m\u001b[0;34m=\u001b[0m\u001b[0mv2\u001b[0m\u001b[0;34m[\u001b[0m\u001b[0;36m0\u001b[0m\u001b[0;34m]\u001b[0m\u001b[0;34m.\u001b[0m\u001b[0mcopy\u001b[0m\u001b[0;34m(\u001b[0m\u001b[0;34m)\u001b[0m\u001b[0;34m\u001b[0m\u001b[0;34m\u001b[0m\u001b[0m\n\u001b[0;32m---> 26\u001b[0;31m         \u001b[0;32mif\u001b[0m \u001b[0mobj\u001b[0m\u001b[0;34m[\u001b[0m\u001b[0mi\u001b[0m\u001b[0;34m]\u001b[0m\u001b[0;34m<\u001b[0m\u001b[0mg_obj\u001b[0m\u001b[0;34m:\u001b[0m\u001b[0;34m\u001b[0m\u001b[0;34m\u001b[0m\u001b[0m\n\u001b[0m\u001b[1;32m     27\u001b[0m             \u001b[0mg_pop\u001b[0m\u001b[0;34m=\u001b[0m\u001b[0mpop\u001b[0m\u001b[0;34m[\u001b[0m\u001b[0mi\u001b[0m\u001b[0;34m]\u001b[0m\u001b[0;34m.\u001b[0m\u001b[0mcopy\u001b[0m\u001b[0;34m(\u001b[0m\u001b[0;34m)\u001b[0m\u001b[0;34m\u001b[0m\u001b[0;34m\u001b[0m\u001b[0m\n\u001b[1;32m     28\u001b[0m             \u001b[0mg_obj\u001b[0m\u001b[0;34m=\u001b[0m\u001b[0mobj\u001b[0m\u001b[0;34m[\u001b[0m\u001b[0mi\u001b[0m\u001b[0;34m]\u001b[0m\u001b[0;34m.\u001b[0m\u001b[0mcopy\u001b[0m\u001b[0;34m(\u001b[0m\u001b[0;34m)\u001b[0m\u001b[0;34m\u001b[0m\u001b[0;34m\u001b[0m\u001b[0m\n",
            "\u001b[0;31mIndexError\u001b[0m: invalid index to scalar variable."
          ]
        }
      ]
    },
    {
      "metadata": {
        "id": "-EWGw8gJYefV",
        "colab_type": "code",
        "colab": {
          "base_uri": "https://localhost:8080/",
          "height": 35
        },
        "outputId": "7388189d-0feb-41f1-8603-c8e0e6c5743a"
      },
      "cell_type": "code",
      "source": [
        "print(obj)"
      ],
      "execution_count": 31,
      "outputs": [
        {
          "output_type": "stream",
          "text": [
            "[1.956766563653946, 1.9300814628601075, 1.9304521640141805, 2.090738912423452, 1.9319131513436636, 1.9280757188796998, 1.9364234983921051, 2.0819326202074686, 1.9307277123133342, 1.9290718952814738]\n"
          ],
          "name": "stdout"
        }
      ]
    },
    {
      "metadata": {
        "id": "OJw6tIBcgc-E",
        "colab_type": "code",
        "colab": {}
      },
      "cell_type": "code",
      "source": [
        ""
      ],
      "execution_count": 0,
      "outputs": []
    }
  ]
}
